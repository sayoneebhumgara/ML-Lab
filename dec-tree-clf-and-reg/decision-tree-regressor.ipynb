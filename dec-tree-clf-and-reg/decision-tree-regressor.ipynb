{
 "cells": [
  {
   "cell_type": "code",
   "execution_count": null,
   "id": "16c40f4a-2ebf-41f3-8036-7867c2dabc34",
   "metadata": {},
   "outputs": [],
   "source": [
    "import numpy as np\n",
    "import matplotlib.pyplot as plt\n",
    "from sklearn.datasets import fetch_california_housing\n",
    "from sklearn.model_selection import train_test_split\n",
    "from sklearn.tree import DecisionTreeRegressor\n",
    "from sklearn.metrics import mean_squared_error, r2_score"
   ]
  },
  {
   "cell_type": "code",
   "execution_count": null,
   "id": "cba4dfbb-031a-46e5-b388-8d5aeaf9a07a",
   "metadata": {},
   "outputs": [],
   "source": [
    "# Load the California housing dataset\n",
    "data = fetch_california_housing()"
   ]
  },
  {
   "cell_type": "code",
   "execution_count": null,
   "id": "4c47f27b-fff1-4a60-ab98-cba3e291d0eb",
   "metadata": {},
   "outputs": [],
   "source": [
    "# Split the data into features (X) and target (y)\n",
    "X = data.data\n",
    "y = data.target"
   ]
  },
  {
   "cell_type": "code",
   "execution_count": null,
   "id": "231b4102-540c-4acf-84c0-6993bb15be55",
   "metadata": {},
   "outputs": [],
   "source": [
    "# Split the data into training and testing sets\n",
    "X_train, X_test, y_train, y_test = train_test_split(X, y, test_size=0.33, random_state=42)\n"
   ]
  },
  {
   "cell_type": "code",
   "execution_count": null,
   "id": "7b001732-221d-4dcc-8f4b-3fe652859b19",
   "metadata": {},
   "outputs": [],
   "source": [
    "# Create and train a Decision Tree Regressor\n",
    "regressor = DecisionTreeRegressor()\n",
    "regressor.fit(X_train, y_train)\n"
   ]
  },
  {
   "cell_type": "code",
   "execution_count": null,
   "id": "1c708e1c-1f5a-4207-b82b-092ace6d2eb1",
   "metadata": {},
   "outputs": [],
   "source": [
    "# Make predictions\n",
    "predictions = regressor.predict(X_test)"
   ]
  },
  {
   "cell_type": "code",
   "execution_count": null,
   "id": "20be201a-d0bc-40ae-a849-c839fc275da0",
   "metadata": {},
   "outputs": [],
   "source": [
    "# Calculate Mean Squared Error (MSE) and R-squared (R2) for evaluation\n",
    "mse = mean_squared_error(y_test, predictions)\n",
    "r2 = r2_score(y_test, predictions)"
   ]
  },
  {
   "cell_type": "code",
   "execution_count": null,
   "id": "c1f616a3-16ea-439e-8817-9b0b289969f1",
   "metadata": {},
   "outputs": [],
   "source": [
    "print(\"Mean Squared Error:\", mse)\n",
    "print(\"R-squared (R2) Score:\", r2)"
   ]
  },
  {
   "cell_type": "code",
   "execution_count": null,
   "id": "6b17a7a0-16de-4aa9-ac49-04971f3a0d4c",
   "metadata": {},
   "outputs": [],
   "source": [
    "# Visualize the Decision Tree (Note: Decision Tree visualization for regressors can be large)\n",
    "from sklearn import tree\n",
    "fig = plt.figure(figsize=(12, 8))\n",
    "_ = tree.plot_tree(regressor, filled=True)\n",
    "plt.show()"
   ]
  },
  {
   "cell_type": "code",
   "execution_count": null,
   "id": "6401ac5f-6f75-41fc-9654-f84259b22193",
   "metadata": {},
   "outputs": [],
   "source": [
    "# Plot true vs. predicted values\n",
    "plt.scatter(y_test, predictions)\n",
    "plt.xlabel(\"True Values\")\n",
    "plt.ylabel(\"Predictions\")\n",
    "plt.title(\"True vs. Predicted Values (Decision Tree Regressor)\")\n",
    "plt.show()"
   ]
  },
  {
   "cell_type": "code",
   "execution_count": null,
   "id": "c6b02688-0939-4181-b7bc-c0e8ecdc1d8f",
   "metadata": {},
   "outputs": [],
   "source": []
  }
 ],
 "metadata": {
  "kernelspec": {
   "display_name": "Python 3 (ipykernel)",
   "language": "python",
   "name": "python3"
  },
  "language_info": {
   "codemirror_mode": {
    "name": "ipython",
    "version": 3
   },
   "file_extension": ".py",
   "mimetype": "text/x-python",
   "name": "python",
   "nbconvert_exporter": "python",
   "pygments_lexer": "ipython3",
   "version": "3.11.3"
  }
 },
 "nbformat": 4,
 "nbformat_minor": 5
}
