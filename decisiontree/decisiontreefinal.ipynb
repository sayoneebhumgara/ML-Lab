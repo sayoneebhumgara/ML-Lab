{
 "cells": [
  {
   "cell_type": "code",
   "execution_count": null,
   "id": "cc6b5d36-0605-425f-ba10-dad01e0ec40f",
   "metadata": {},
   "outputs": [],
   "source": [
    "import pandas as pd\n",
    "from sklearn.tree import DecisionTreeClassifier, plot_tree\n",
    "from sklearn.model_selection import train_test_split\n",
    "from sklearn.preprocessing import LabelEncoder\n",
    "from sklearn.metrics import accuracy_score, confusion_matrix\n",
    "import matplotlib.pyplot as plt"
   ]
  },
  {
   "cell_type": "code",
   "execution_count": null,
   "id": "c30d31ce-2b97-47a4-8f85-3b498c84576a",
   "metadata": {},
   "outputs": [],
   "source": [
    "# Load the dataset with the correct delimiter (comma)\n",
    "file_path = 'data.csv'\n",
    "df = pd.read_csv(file_path)"
   ]
  },
  {
   "cell_type": "code",
   "execution_count": null,
   "id": "debfb1db-3472-4295-9353-02adf6bf7ae3",
   "metadata": {},
   "outputs": [],
   "source": [
    "# Clean column names by removing leading/trailing whitespaces\n",
    "df.columns = df.columns.str.strip()"
   ]
  },
  {
   "cell_type": "code",
   "execution_count": null,
   "id": "2bc6e05a-7a3f-4210-85ab-dbb13c7114b0",
   "metadata": {},
   "outputs": [],
   "source": [
    "# Convert 'Buys' column into numeric using LabelEncoder\n",
    "le = LabelEncoder()\n",
    "df['Buys'] = le.fit_transform(df['Buys'])"
   ]
  },
  {
   "cell_type": "code",
   "execution_count": null,
   "id": "ebf81e41-0f3e-4e89-a5e4-425ab8e67250",
   "metadata": {},
   "outputs": [],
   "source": [
    "# One-hot encode the categorical features\n",
    "df = pd.get_dummies(df, columns=['Age', 'Income', 'Gender', 'MaritialStatus'])"
   ]
  },
  {
   "cell_type": "code",
   "execution_count": null,
   "id": "6755602b-8177-4679-9ea2-759ad0269b60",
   "metadata": {},
   "outputs": [],
   "source": [
    "# Separate features and target variable\n",
    "X = df.drop('Buys', axis=1)\n",
    "y = df['Buys']"
   ]
  },
  {
   "cell_type": "code",
   "execution_count": null,
   "id": "c8cb397b-0f12-4cec-90c5-039c53578c2d",
   "metadata": {},
   "outputs": [],
   "source": [
    "# Split the dataset into training and testing sets\n",
    "X_train, X_test, y_train, y_test = train_test_split(X, y, test_size=0.2, random_state=42)"
   ]
  },
  {
   "cell_type": "code",
   "execution_count": null,
   "id": "a918cdcc-bd08-464b-8e89-8c2381ae3905",
   "metadata": {},
   "outputs": [],
   "source": [
    "# Create a decision tree classifier\n",
    "clf = DecisionTreeClassifier()"
   ]
  },
  {
   "cell_type": "code",
   "execution_count": null,
   "id": "b6faee50-494a-49da-a0b1-673c90a0f72a",
   "metadata": {},
   "outputs": [],
   "source": [
    "# Train the model on the training data\n",
    "clf.fit(X_train, y_train)"
   ]
  },
  {
   "cell_type": "code",
   "execution_count": null,
   "id": "5f84db47-87eb-4944-aa1e-512788217aa5",
   "metadata": {},
   "outputs": [],
   "source": [
    "# Make predictions on the test set\n",
    "y_pred = clf.predict(X_test)"
   ]
  },
  {
   "cell_type": "code",
   "execution_count": null,
   "id": "a3c0b5a3-cb3b-4223-a670-d128d23e280c",
   "metadata": {},
   "outputs": [],
   "source": [
    "# Calculate accuracy and print the confusion matrix\n",
    "accuracy = accuracy_score(y_test, y_pred)\n",
    "conf_matrix = confusion_matrix(y_test, y_pred)"
   ]
  },
  {
   "cell_type": "code",
   "execution_count": null,
   "id": "c8020431-6d0c-46e2-a075-4e7b88b129af",
   "metadata": {
    "scrolled": true
   },
   "outputs": [],
   "source": [
    "print(\"Accuracy:\", accuracy)\n",
    "print(\"Confusion Matrix:\")\n",
    "print(conf_matrix)"
   ]
  },
  {
   "cell_type": "code",
   "execution_count": null,
   "id": "93b8660b-d515-4bce-804a-9fd29db0c052",
   "metadata": {},
   "outputs": [],
   "source": [
    "# Plot the decision tree\n",
    "plt.figure(figsize=(12, 8))\n",
    "plot_tree(clf, feature_names=X.columns.tolist(), class_names=['No', 'Yes'], filled=True, rounded=True)\n",
    "plt.show()"
   ]
  },
  {
   "cell_type": "code",
   "execution_count": null,
   "id": "5753a446-a33c-40c9-9901-398ced03778c",
   "metadata": {},
   "outputs": [],
   "source": []
  }
 ],
 "metadata": {
  "kernelspec": {
   "display_name": "Python 3 (ipykernel)",
   "language": "python",
   "name": "python3"
  },
  "language_info": {
   "codemirror_mode": {
    "name": "ipython",
    "version": 3
   },
   "file_extension": ".py",
   "mimetype": "text/x-python",
   "name": "python",
   "nbconvert_exporter": "python",
   "pygments_lexer": "ipython3",
   "version": "3.11.3"
  }
 },
 "nbformat": 4,
 "nbformat_minor": 5
}
